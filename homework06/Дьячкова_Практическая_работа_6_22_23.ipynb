{
  "nbformat": 4,
  "nbformat_minor": 0,
  "metadata": {
    "colab": {
      "provenance": [],
      "include_colab_link": true
    },
    "kernelspec": {
      "name": "python3",
      "display_name": "Python 3"
    },
    "language_info": {
      "name": "python"
    }
  },
  "cells": [
    {
      "cell_type": "markdown",
      "metadata": {
        "id": "view-in-github",
        "colab_type": "text"
      },
      "source": [
        "<a href=\"https://colab.research.google.com/github/lldckv/cs102/blob/homework06/homework06/%D0%94%D1%8C%D1%8F%D1%87%D0%BA%D0%BE%D0%B2%D0%B0_%D0%9F%D1%80%D0%B0%D0%BA%D1%82%D0%B8%D1%87%D0%B5%D1%81%D0%BA%D0%B0%D1%8F_%D1%80%D0%B0%D0%B1%D0%BE%D1%82%D0%B0_6_22_23.ipynb\" target=\"_parent\"><img src=\"https://colab.research.google.com/assets/colab-badge.svg\" alt=\"Open In Colab\"/></a>"
      ]
    },
    {
      "cell_type": "markdown",
      "metadata": {
        "id": "KSKKDKd2rwlj"
      },
      "source": [
        "# Дескриптивный анализ данных"
      ]
    },
    {
      "cell_type": "markdown",
      "source": [
        ">$\\color{red}{\\text{Прежде чем перейти в выполнению заданий,}}$ \n",
        "$\\color{red}{\\text{через меню Файл подключите свой гугл-колаб к своему гитхабу. }}$\n",
        "$\\color{red}{\\text{Создайте для этой работы отдельную ветку и папку – homework06.}}$"
      ],
      "metadata": {
        "id": "WVUwSMwE3W8c"
      }
    },
    {
      "cell_type": "markdown",
      "metadata": {
        "id": "34z2ONdu-UF0"
      },
      "source": [
        "*Построение всех графиков выполняется только при помощи средств визуализации `Python`: `matplotlib`, `seaborn`, `pandas`. По каждому заданию должен быть сделан вывод. Для всех визуализаций используйте стиль `seaborn`. Обязательно добавляйте подпись графика и осей.* "
      ]
    },
    {
      "cell_type": "markdown",
      "metadata": {
        "id": "2PDB4mwLr1Sk"
      },
      "source": [
        "В этой практической работе вам предстоит провести анализ данных об особенностях жанров музыки. Датасет возьмите [отсюда](https://www.kaggle.com/vicsuperman/prediction-of-music-genre). Он содержит 41700 уникальных исполниителей.\n",
        "\n",
        "Данные содержат 18 столбцов:\n",
        "- `instance_id` - id строки датасета\n",
        "- `artist_name` - исполнитель\n",
        "- `track_name` - название трека\n",
        "- `popularity` - индекс популярности трека\n",
        "- `acousticness` - акустичность\n",
        "- `danceability` - танцевальность (насколько трек подходит для танцев)\n",
        "- `duration_ms` - длительность трека\n",
        "- `energy` - энергичность трека\n",
        "- `instrumentalness` - инструментальность\n",
        "- `key` - регистр (высота тона)\n",
        "- `liveness` - живость\n",
        "- `loudness` - громкость\n",
        "- `mode` - тональность\n",
        "- `speechiness` - насколько много текста\n",
        "- `tempo` - музыкальный темп\n",
        "- `obtained_date` - дата загрузки трека в датасет\n",
        "- `valence` - настроение\n",
        "- `music_genre` - жанр"
      ]
    },
    {
      "cell_type": "markdown",
      "source": [
        "## Часть 1\n",
        "\n",
        "Выполните все задания ниже с помощью библиотеки `pandas`."
      ],
      "metadata": {
        "id": "bkchMOL3490D"
      }
    },
    {
      "cell_type": "markdown",
      "source": [
        "### Задание 1"
      ],
      "metadata": {
        "id": "2oLTrZbOxFmz"
      }
    },
    {
      "cell_type": "markdown",
      "source": [
        "1. Загрузите датасет `music_genre.csv`.\n",
        "2. Возьмите 20 тысяч случайных строк из датасета (**все остальные задания выполняйте для этих 20 тысяч строк!!!**)\n",
        "3. Проверьте, есть ли в датасете дублирующиеся строки. Если есть, удалите их.\n",
        "4. Проверьте, есть ли а датасете строки, в которых значение в столбце `artist_name` – `empty_field`. Если есть, выведите эти строки и их количество. А затем удалите из датасета."
      ],
      "metadata": {
        "id": "UiPqPkb0wwyw"
      }
    },
    {
      "cell_type": "code",
      "source": [
        "import pandas as pd\n",
        "import numpy as np\n",
        "url = 'https://raw.githubusercontent.com/lldckv/cs102/homework06/homework06/music_genre.csv?token=GHSAT0AAAAAACBVSU7HXIXFUOAQONPM7DDIZCCYEZQ'\n",
        "music = pd.read_csv(url)\n",
        "#music.head()\n",
        "music_sample_full = music.sample(20000)\n",
        "#3\n",
        "if music_sample_full.duplicated().any():\n",
        "  music_sample_full=music_sample_full.drop_duplicates()\n",
        "#4\n",
        "print(f'Строк без артистов: {music_sample_full[music_sample_full[\"artist_name\"] == \"empty_field\"].shape[0]}')\n",
        "music_sample=music_sample_full.drop(music_sample_full[music_sample_full[\"artist_name\"] == \"empty_field\"].index)\n",
        "music_sample.head()"
      ],
      "metadata": {
        "id": "CdDZgNsEwsgA",
        "colab": {
          "base_uri": "https://localhost:8080/",
          "height": 348
        },
        "outputId": "80ab5009-714b-4318-b602-a097b926a44e"
      },
      "execution_count": 63,
      "outputs": [
        {
          "output_type": "stream",
          "name": "stdout",
          "text": [
            "Строк без артистов: 1004\n"
          ]
        },
        {
          "output_type": "execute_result",
          "data": {
            "text/plain": [
              "       instance_id              artist_name  \\\n",
              "46833      74690.0                    Logic   \n",
              "8329       37564.0    Falcom Sound Team jdk   \n",
              "43158      23924.0  Wolfgang Amadeus Mozart   \n",
              "624        65159.0                  Moderat   \n",
              "36824      63216.0           Arctic Monkeys   \n",
              "\n",
              "                                              track_name  popularity  \\\n",
              "46833                                     1-800-273-8255        84.0   \n",
              "8329                                             Exceed!        17.0   \n",
              "43158  Piano Concerto No. 14 in E-Flat Major, K. 449:...         0.0   \n",
              "624                                                 Gita        28.0   \n",
              "36824                                     Baby I'm Yours        55.0   \n",
              "\n",
              "       acousticness  danceability  duration_ms  energy  instrumentalness key  \\\n",
              "46833      0.570000         0.620     250173.0  0.5740             0.000   F   \n",
              "8329       0.000003         0.385     245040.0  0.9900             0.788   E   \n",
              "43158      0.989000         0.274     395907.0  0.0363             0.922  A#   \n",
              "624        0.078900         0.611     262533.0  0.5560             0.724   F   \n",
              "36824      0.215000         0.462     152613.0  0.5950             0.000   D   \n",
              "\n",
              "       liveness  loudness   mode  speechiness    tempo obtained_date  valence  \\\n",
              "46833     0.190    -7.788  Minor       0.0479  100.021         4-Apr    0.352   \n",
              "8329      0.130    -4.036  Minor       0.1180  140.003         4-Apr    0.278   \n",
              "43158     0.286   -25.909  Major       0.0355   80.816         4-Apr    0.107   \n",
              "624       0.453    -8.281  Minor       0.0773        ?         4-Apr    0.204   \n",
              "36824     0.184    -9.363  Major       0.0347  113.719         4-Apr    0.640   \n",
              "\n",
              "      music_genre  \n",
              "46833     Hip-Hop  \n",
              "8329        Anime  \n",
              "43158   Classical  \n",
              "624    Electronic  \n",
              "36824        Rock  "
            ],
            "text/html": [
              "\n",
              "  <div id=\"df-52b82b24-dcb0-49c2-8d4b-982876eefc2e\">\n",
              "    <div class=\"colab-df-container\">\n",
              "      <div>\n",
              "<style scoped>\n",
              "    .dataframe tbody tr th:only-of-type {\n",
              "        vertical-align: middle;\n",
              "    }\n",
              "\n",
              "    .dataframe tbody tr th {\n",
              "        vertical-align: top;\n",
              "    }\n",
              "\n",
              "    .dataframe thead th {\n",
              "        text-align: right;\n",
              "    }\n",
              "</style>\n",
              "<table border=\"1\" class=\"dataframe\">\n",
              "  <thead>\n",
              "    <tr style=\"text-align: right;\">\n",
              "      <th></th>\n",
              "      <th>instance_id</th>\n",
              "      <th>artist_name</th>\n",
              "      <th>track_name</th>\n",
              "      <th>popularity</th>\n",
              "      <th>acousticness</th>\n",
              "      <th>danceability</th>\n",
              "      <th>duration_ms</th>\n",
              "      <th>energy</th>\n",
              "      <th>instrumentalness</th>\n",
              "      <th>key</th>\n",
              "      <th>liveness</th>\n",
              "      <th>loudness</th>\n",
              "      <th>mode</th>\n",
              "      <th>speechiness</th>\n",
              "      <th>tempo</th>\n",
              "      <th>obtained_date</th>\n",
              "      <th>valence</th>\n",
              "      <th>music_genre</th>\n",
              "    </tr>\n",
              "  </thead>\n",
              "  <tbody>\n",
              "    <tr>\n",
              "      <th>46833</th>\n",
              "      <td>74690.0</td>\n",
              "      <td>Logic</td>\n",
              "      <td>1-800-273-8255</td>\n",
              "      <td>84.0</td>\n",
              "      <td>0.570000</td>\n",
              "      <td>0.620</td>\n",
              "      <td>250173.0</td>\n",
              "      <td>0.5740</td>\n",
              "      <td>0.000</td>\n",
              "      <td>F</td>\n",
              "      <td>0.190</td>\n",
              "      <td>-7.788</td>\n",
              "      <td>Minor</td>\n",
              "      <td>0.0479</td>\n",
              "      <td>100.021</td>\n",
              "      <td>4-Apr</td>\n",
              "      <td>0.352</td>\n",
              "      <td>Hip-Hop</td>\n",
              "    </tr>\n",
              "    <tr>\n",
              "      <th>8329</th>\n",
              "      <td>37564.0</td>\n",
              "      <td>Falcom Sound Team jdk</td>\n",
              "      <td>Exceed!</td>\n",
              "      <td>17.0</td>\n",
              "      <td>0.000003</td>\n",
              "      <td>0.385</td>\n",
              "      <td>245040.0</td>\n",
              "      <td>0.9900</td>\n",
              "      <td>0.788</td>\n",
              "      <td>E</td>\n",
              "      <td>0.130</td>\n",
              "      <td>-4.036</td>\n",
              "      <td>Minor</td>\n",
              "      <td>0.1180</td>\n",
              "      <td>140.003</td>\n",
              "      <td>4-Apr</td>\n",
              "      <td>0.278</td>\n",
              "      <td>Anime</td>\n",
              "    </tr>\n",
              "    <tr>\n",
              "      <th>43158</th>\n",
              "      <td>23924.0</td>\n",
              "      <td>Wolfgang Amadeus Mozart</td>\n",
              "      <td>Piano Concerto No. 14 in E-Flat Major, K. 449:...</td>\n",
              "      <td>0.0</td>\n",
              "      <td>0.989000</td>\n",
              "      <td>0.274</td>\n",
              "      <td>395907.0</td>\n",
              "      <td>0.0363</td>\n",
              "      <td>0.922</td>\n",
              "      <td>A#</td>\n",
              "      <td>0.286</td>\n",
              "      <td>-25.909</td>\n",
              "      <td>Major</td>\n",
              "      <td>0.0355</td>\n",
              "      <td>80.816</td>\n",
              "      <td>4-Apr</td>\n",
              "      <td>0.107</td>\n",
              "      <td>Classical</td>\n",
              "    </tr>\n",
              "    <tr>\n",
              "      <th>624</th>\n",
              "      <td>65159.0</td>\n",
              "      <td>Moderat</td>\n",
              "      <td>Gita</td>\n",
              "      <td>28.0</td>\n",
              "      <td>0.078900</td>\n",
              "      <td>0.611</td>\n",
              "      <td>262533.0</td>\n",
              "      <td>0.5560</td>\n",
              "      <td>0.724</td>\n",
              "      <td>F</td>\n",
              "      <td>0.453</td>\n",
              "      <td>-8.281</td>\n",
              "      <td>Minor</td>\n",
              "      <td>0.0773</td>\n",
              "      <td>?</td>\n",
              "      <td>4-Apr</td>\n",
              "      <td>0.204</td>\n",
              "      <td>Electronic</td>\n",
              "    </tr>\n",
              "    <tr>\n",
              "      <th>36824</th>\n",
              "      <td>63216.0</td>\n",
              "      <td>Arctic Monkeys</td>\n",
              "      <td>Baby I'm Yours</td>\n",
              "      <td>55.0</td>\n",
              "      <td>0.215000</td>\n",
              "      <td>0.462</td>\n",
              "      <td>152613.0</td>\n",
              "      <td>0.5950</td>\n",
              "      <td>0.000</td>\n",
              "      <td>D</td>\n",
              "      <td>0.184</td>\n",
              "      <td>-9.363</td>\n",
              "      <td>Major</td>\n",
              "      <td>0.0347</td>\n",
              "      <td>113.719</td>\n",
              "      <td>4-Apr</td>\n",
              "      <td>0.640</td>\n",
              "      <td>Rock</td>\n",
              "    </tr>\n",
              "  </tbody>\n",
              "</table>\n",
              "</div>\n",
              "      <button class=\"colab-df-convert\" onclick=\"convertToInteractive('df-52b82b24-dcb0-49c2-8d4b-982876eefc2e')\"\n",
              "              title=\"Convert this dataframe to an interactive table.\"\n",
              "              style=\"display:none;\">\n",
              "        \n",
              "  <svg xmlns=\"http://www.w3.org/2000/svg\" height=\"24px\"viewBox=\"0 0 24 24\"\n",
              "       width=\"24px\">\n",
              "    <path d=\"M0 0h24v24H0V0z\" fill=\"none\"/>\n",
              "    <path d=\"M18.56 5.44l.94 2.06.94-2.06 2.06-.94-2.06-.94-.94-2.06-.94 2.06-2.06.94zm-11 1L8.5 8.5l.94-2.06 2.06-.94-2.06-.94L8.5 2.5l-.94 2.06-2.06.94zm10 10l.94 2.06.94-2.06 2.06-.94-2.06-.94-.94-2.06-.94 2.06-2.06.94z\"/><path d=\"M17.41 7.96l-1.37-1.37c-.4-.4-.92-.59-1.43-.59-.52 0-1.04.2-1.43.59L10.3 9.45l-7.72 7.72c-.78.78-.78 2.05 0 2.83L4 21.41c.39.39.9.59 1.41.59.51 0 1.02-.2 1.41-.59l7.78-7.78 2.81-2.81c.8-.78.8-2.07 0-2.86zM5.41 20L4 18.59l7.72-7.72 1.47 1.35L5.41 20z\"/>\n",
              "  </svg>\n",
              "      </button>\n",
              "      \n",
              "  <style>\n",
              "    .colab-df-container {\n",
              "      display:flex;\n",
              "      flex-wrap:wrap;\n",
              "      gap: 12px;\n",
              "    }\n",
              "\n",
              "    .colab-df-convert {\n",
              "      background-color: #E8F0FE;\n",
              "      border: none;\n",
              "      border-radius: 50%;\n",
              "      cursor: pointer;\n",
              "      display: none;\n",
              "      fill: #1967D2;\n",
              "      height: 32px;\n",
              "      padding: 0 0 0 0;\n",
              "      width: 32px;\n",
              "    }\n",
              "\n",
              "    .colab-df-convert:hover {\n",
              "      background-color: #E2EBFA;\n",
              "      box-shadow: 0px 1px 2px rgba(60, 64, 67, 0.3), 0px 1px 3px 1px rgba(60, 64, 67, 0.15);\n",
              "      fill: #174EA6;\n",
              "    }\n",
              "\n",
              "    [theme=dark] .colab-df-convert {\n",
              "      background-color: #3B4455;\n",
              "      fill: #D2E3FC;\n",
              "    }\n",
              "\n",
              "    [theme=dark] .colab-df-convert:hover {\n",
              "      background-color: #434B5C;\n",
              "      box-shadow: 0px 1px 3px 1px rgba(0, 0, 0, 0.15);\n",
              "      filter: drop-shadow(0px 1px 2px rgba(0, 0, 0, 0.3));\n",
              "      fill: #FFFFFF;\n",
              "    }\n",
              "  </style>\n",
              "\n",
              "      <script>\n",
              "        const buttonEl =\n",
              "          document.querySelector('#df-52b82b24-dcb0-49c2-8d4b-982876eefc2e button.colab-df-convert');\n",
              "        buttonEl.style.display =\n",
              "          google.colab.kernel.accessAllowed ? 'block' : 'none';\n",
              "\n",
              "        async function convertToInteractive(key) {\n",
              "          const element = document.querySelector('#df-52b82b24-dcb0-49c2-8d4b-982876eefc2e');\n",
              "          const dataTable =\n",
              "            await google.colab.kernel.invokeFunction('convertToInteractive',\n",
              "                                                     [key], {});\n",
              "          if (!dataTable) return;\n",
              "\n",
              "          const docLinkHtml = 'Like what you see? Visit the ' +\n",
              "            '<a target=\"_blank\" href=https://colab.research.google.com/notebooks/data_table.ipynb>data table notebook</a>'\n",
              "            + ' to learn more about interactive tables.';\n",
              "          element.innerHTML = '';\n",
              "          dataTable['output_type'] = 'display_data';\n",
              "          await google.colab.output.renderOutput(dataTable, element);\n",
              "          const docLink = document.createElement('div');\n",
              "          docLink.innerHTML = docLinkHtml;\n",
              "          element.appendChild(docLink);\n",
              "        }\n",
              "      </script>\n",
              "    </div>\n",
              "  </div>\n",
              "  "
            ],
            "application/vnd.google.colaboratory.module+javascript": "\n      import \"https://ssl.gstatic.com/colaboratory/data_table/99dac6621f6ae8c4/data_table.js\";\n\n      window.createDataTable({\n        data: [[{\n            'v': 46833,\n            'f': \"46833\",\n        },\n{\n            'v': 74690.0,\n            'f': \"74690.0\",\n        },\n\"Logic\",\n\"1-800-273-8255\",\n{\n            'v': 84.0,\n            'f': \"84.0\",\n        },\n{\n            'v': 0.57,\n            'f': \"0.57\",\n        },\n{\n            'v': 0.62,\n            'f': \"0.62\",\n        },\n{\n            'v': 250173.0,\n            'f': \"250173.0\",\n        },\n{\n            'v': 0.574,\n            'f': \"0.574\",\n        },\n{\n            'v': 0.0,\n            'f': \"0.0\",\n        },\n\"F\",\n{\n            'v': 0.19,\n            'f': \"0.19\",\n        },\n{\n            'v': -7.787999999999999,\n            'f': \"-7.787999999999999\",\n        },\n\"Minor\",\n{\n            'v': 0.0479,\n            'f': \"0.0479\",\n        },\n\"100.021\",\n\"4-Apr\",\n{\n            'v': 0.352,\n            'f': \"0.352\",\n        },\n\"Hip-Hop\"],\n [{\n            'v': 8329,\n            'f': \"8329\",\n        },\n{\n            'v': 37564.0,\n            'f': \"37564.0\",\n        },\n\"Falcom Sound Team jdk\",\n\"Exceed!\",\n{\n            'v': 17.0,\n            'f': \"17.0\",\n        },\n{\n            'v': 2.98e-06,\n            'f': \"2.98e-06\",\n        },\n{\n            'v': 0.385,\n            'f': \"0.385\",\n        },\n{\n            'v': 245040.0,\n            'f': \"245040.0\",\n        },\n{\n            'v': 0.99,\n            'f': \"0.99\",\n        },\n{\n            'v': 0.7879999999999999,\n            'f': \"0.7879999999999999\",\n        },\n\"E\",\n{\n            'v': 0.13,\n            'f': \"0.13\",\n        },\n{\n            'v': -4.0360000000000005,\n            'f': \"-4.0360000000000005\",\n        },\n\"Minor\",\n{\n            'v': 0.118,\n            'f': \"0.118\",\n        },\n\"140.003\",\n\"4-Apr\",\n{\n            'v': 0.278,\n            'f': \"0.278\",\n        },\n\"Anime\"],\n [{\n            'v': 43158,\n            'f': \"43158\",\n        },\n{\n            'v': 23924.0,\n            'f': \"23924.0\",\n        },\n\"Wolfgang Amadeus Mozart\",\n\"Piano Concerto No. 14 in E-Flat Major, K. 449: II. Andantino (Live)\",\n{\n            'v': 0.0,\n            'f': \"0.0\",\n        },\n{\n            'v': 0.989,\n            'f': \"0.989\",\n        },\n{\n            'v': 0.2739999999999999,\n            'f': \"0.2739999999999999\",\n        },\n{\n            'v': 395907.0,\n            'f': \"395907.0\",\n        },\n{\n            'v': 0.0363,\n            'f': \"0.0363\",\n        },\n{\n            'v': 0.922,\n            'f': \"0.922\",\n        },\n\"A#\",\n{\n            'v': 0.286,\n            'f': \"0.286\",\n        },\n{\n            'v': -25.909,\n            'f': \"-25.909\",\n        },\n\"Major\",\n{\n            'v': 0.0355,\n            'f': \"0.0355\",\n        },\n\"80.816\",\n\"4-Apr\",\n{\n            'v': 0.107,\n            'f': \"0.107\",\n        },\n\"Classical\"],\n [{\n            'v': 624,\n            'f': \"624\",\n        },\n{\n            'v': 65159.0,\n            'f': \"65159.0\",\n        },\n\"Moderat\",\n\"Gita\",\n{\n            'v': 28.0,\n            'f': \"28.0\",\n        },\n{\n            'v': 0.0789,\n            'f': \"0.0789\",\n        },\n{\n            'v': 0.611,\n            'f': \"0.611\",\n        },\n{\n            'v': 262533.0,\n            'f': \"262533.0\",\n        },\n{\n            'v': 0.556,\n            'f': \"0.556\",\n        },\n{\n            'v': 0.7240000000000001,\n            'f': \"0.7240000000000001\",\n        },\n\"F\",\n{\n            'v': 0.4529999999999999,\n            'f': \"0.4529999999999999\",\n        },\n{\n            'v': -8.281,\n            'f': \"-8.281\",\n        },\n\"Minor\",\n{\n            'v': 0.0773,\n            'f': \"0.0773\",\n        },\n\"?\",\n\"4-Apr\",\n{\n            'v': 0.204,\n            'f': \"0.204\",\n        },\n\"Electronic\"],\n [{\n            'v': 36824,\n            'f': \"36824\",\n        },\n{\n            'v': 63216.0,\n            'f': \"63216.0\",\n        },\n\"Arctic Monkeys\",\n\"Baby I'm Yours\",\n{\n            'v': 55.0,\n            'f': \"55.0\",\n        },\n{\n            'v': 0.215,\n            'f': \"0.215\",\n        },\n{\n            'v': 0.462,\n            'f': \"0.462\",\n        },\n{\n            'v': 152613.0,\n            'f': \"152613.0\",\n        },\n{\n            'v': 0.595,\n            'f': \"0.595\",\n        },\n{\n            'v': 0.0,\n            'f': \"0.0\",\n        },\n\"D\",\n{\n            'v': 0.184,\n            'f': \"0.184\",\n        },\n{\n            'v': -9.363,\n            'f': \"-9.363\",\n        },\n\"Major\",\n{\n            'v': 0.0347,\n            'f': \"0.0347\",\n        },\n\"113.719\",\n\"4-Apr\",\n{\n            'v': 0.64,\n            'f': \"0.64\",\n        },\n\"Rock\"]],\n        columns: [[\"number\", \"index\"], [\"number\", \"instance_id\"], [\"string\", \"artist_name\"], [\"string\", \"track_name\"], [\"number\", \"popularity\"], [\"number\", \"acousticness\"], [\"number\", \"danceability\"], [\"number\", \"duration_ms\"], [\"number\", \"energy\"], [\"number\", \"instrumentalness\"], [\"string\", \"key\"], [\"number\", \"liveness\"], [\"number\", \"loudness\"], [\"string\", \"mode\"], [\"number\", \"speechiness\"], [\"string\", \"tempo\"], [\"string\", \"obtained_date\"], [\"number\", \"valence\"], [\"string\", \"music_genre\"]],\n        columnOptions: [{\"width\": \"1px\", \"className\": \"index_column\"}],\n        rowsPerPage: 25,\n        helpUrl: \"https://colab.research.google.com/notebooks/data_table.ipynb\",\n        suppressOutputScrolling: true,\n        minimumWidth: undefined,\n      });\n    "
          },
          "metadata": {},
          "execution_count": 63
        }
      ]
    },
    {
      "cell_type": "code",
      "source": [
        "%load_ext google.colab.data_table\n",
        "#@title {run: 'auto'}\n",
        "df_name = \"music_sample_full\" #@param [\"music\", \"music_sample_full\", \"music_sample\"]\n",
        "df = globals()[df_name]\n",
        "df"
      ],
      "metadata": {
        "id": "YctIgHZotBQ4"
      },
      "execution_count": null,
      "outputs": []
    },
    {
      "cell_type": "markdown",
      "source": [
        "### Задание 2\n",
        "\n",
        "1. Выведите долю каждого жанра в датасете.\n",
        "2. Покажите на горизонтальной столбиковой диаграмме распределение количества треков по жанрам. Выделите контрастным цветом жанр, в котором больше всего песен.\n",
        "3. Найдите самый танцевальный жанр. У самого танцевального жанра среднее значение показателя danceability должно быть наивысшим.\n",
        "4. Для каждого жанра определите, какая тональность в нем преобладает – количество треков какой тональность больше (минор или мажор)."
      ],
      "metadata": {
        "id": "P3BidIDExIrK"
      }
    },
    {
      "cell_type": "code",
      "source": [
        "# PUT YOUR CODE HERE"
      ],
      "metadata": {
        "id": "0j2MWLdoytCV"
      },
      "execution_count": null,
      "outputs": []
    },
    {
      "cell_type": "markdown",
      "source": [
        "### Задание 3\n",
        "\n",
        "1. Выведите исполнителя, у которого больше всего треков в датасете. И того, у которого их меньше всех.\n",
        "2. Покажите на горизонтральной столбиковой диаграмме топ-20 исполнителей. Изучите результат и сделайте выводы."
      ],
      "metadata": {
        "id": "UFsKd07syxWI"
      }
    },
    {
      "cell_type": "code",
      "source": [
        "# PUT YOUR CODE HERE"
      ],
      "metadata": {
        "id": "jm6uJLiPzS_1"
      },
      "execution_count": null,
      "outputs": []
    },
    {
      "cell_type": "markdown",
      "metadata": {
        "id": "pjBj8HWkr1nI"
      },
      "source": [
        "### Задание 4"
      ]
    },
    {
      "cell_type": "markdown",
      "metadata": {
        "id": "u3nyqiKmwj2F"
      },
      "source": [
        "1. Постройте корреляционную матрицу для характеристик треков. Между какими характеристиками сильная корреляция? Между какими слабая? Есть ли характеристики, между которыми корреляции практически нет.\n",
        "2. Посчитайте корреляцию между популярностью (popularity) и длиной названия трека."
      ]
    },
    {
      "cell_type": "code",
      "metadata": {
        "id": "QN6HDuT9rtVz"
      },
      "source": [
        "# PUT YOUR CODE HERE"
      ],
      "execution_count": null,
      "outputs": []
    },
    {
      "cell_type": "markdown",
      "metadata": {
        "id": "0ygsFcLSwrTt"
      },
      "source": [
        "### Задание 5\n",
        "\n",
        "Покажите на ящиковой диаграмме отношение популярности треков к жанру. Какие жанры похожи между собой?"
      ]
    },
    {
      "cell_type": "code",
      "metadata": {
        "id": "QKHJ85OHwrTu"
      },
      "source": [
        "# PUT YOUR CODE HERE"
      ],
      "execution_count": null,
      "outputs": []
    },
    {
      "cell_type": "markdown",
      "metadata": {
        "id": "zrX_7sX_wrd-"
      },
      "source": [
        "### Задание 6"
      ]
    },
    {
      "cell_type": "markdown",
      "metadata": {
        "id": "-YxfmmMSwrd_"
      },
      "source": [
        "Для топ-3 жанров покажите на круговой диаграмме с группировкой самого популярного исполнителя. Диаграмма должна быть одна."
      ]
    },
    {
      "cell_type": "code",
      "metadata": {
        "id": "emEaxEcuwrd_"
      },
      "source": [
        "# PUT YOUR CODE HERE"
      ],
      "execution_count": null,
      "outputs": []
    },
    {
      "cell_type": "markdown",
      "metadata": {
        "id": "xSf_PxzKwrmy"
      },
      "source": [
        "### Задание 7"
      ]
    },
    {
      "cell_type": "markdown",
      "metadata": {
        "id": "XfsIogcJwrmz"
      },
      "source": [
        "На вертикальной столбиковой диаграмме для самого популярного (popularity) и самого непопулярного жанров покажите средние значения по всем характеристикам. Отрицательные и положительные значения характеристик показывайте разными цветами."
      ]
    },
    {
      "cell_type": "code",
      "metadata": {
        "id": "_qfk7y5Mwrmz"
      },
      "source": [
        "# PUT YOUR CODE HERE"
      ],
      "execution_count": null,
      "outputs": []
    },
    {
      "cell_type": "markdown",
      "metadata": {
        "id": "CxGr4PzCwrvk"
      },
      "source": [
        "### Задание 8"
      ]
    },
    {
      "cell_type": "markdown",
      "metadata": {
        "id": "40NA2CMZwrvk"
      },
      "source": [
        "1. Добавьте в данные категориальный столбец `длительность_трека`, в котором будут значения: \"короткая\" (<=3min), \"средняя\" (>3min, <=5min), \"длинная\" (>5min). \n",
        "2. Покажите график плотности распределения данных в столбце `loudness`, сгруппированных по категориям длительности.\n",
        "3. На круговой диаграмме вида \"пончик\" покажите численное соотношение треков разной длительности."
      ]
    },
    {
      "cell_type": "code",
      "metadata": {
        "id": "C8mkWk2fwrvl"
      },
      "source": [
        "# PUT YOUR CODE HERE"
      ],
      "execution_count": null,
      "outputs": []
    },
    {
      "cell_type": "markdown",
      "source": [
        "## Часть 2\n",
        "\n",
        "Выполните на языке R следующие задания:\n",
        "- задание 1 – целиком\n",
        "- задание 2 – целиком\n",
        "- задание 3 – целиком\n",
        "- задание 4 – целиком\n",
        "- задание 5 – целиком\n",
        "- задание 6 – не выполнять\n",
        "- задание 7 – целиком\n",
        "- задание 8 – целиком, но в третьем пункте постройте круговую диаграмму"
      ],
      "metadata": {
        "id": "Z0_35fxD5H_H"
      }
    },
    {
      "cell_type": "markdown",
      "source": [
        "Задание для части 2 выполняйте в отдельном гугл-колабе, настроенном для языка R. Гугл-колаб с решениями второй части также соедините с веткой homework06 своего гитхаба."
      ],
      "metadata": {
        "id": "XveRUbLT56Nu"
      }
    },
    {
      "cell_type": "markdown",
      "source": [
        "## Часть 3 (дополнительная)\n",
        "\n",
        "Часть не является обязательной, но ее верное(!) выполнение освобождает вас от защиты работы.\n",
        "\n",
        "Выполните на языке SQL следующие задания:\n",
        "- задание 1 – пункт 4\n",
        "- задание 2 – пункты 1, 3, 4\n",
        "- задание 3 – целиком, но без графика во втором пункте\n",
        "- задание 4 – не выполнять\n",
        "- задание 5 – не выполнять\n",
        "- задание 6 – не выполнять\n",
        "- задание 7 – не выполнять\n",
        "- задание 8 – пункт 1 и пункт 3 (в 3 пункте просто посчитайте количество треков каждой длительности)"
      ],
      "metadata": {
        "id": "HUEGsrLO6-GA"
      }
    },
    {
      "cell_type": "markdown",
      "source": [
        "Задание для части 3 выполняйте в отдельном гугл-колабе. Гугл-колаб с решениями второй части также соедините с веткой homework06 своего гитхаба."
      ],
      "metadata": {
        "id": "7UmmyVWb-1EQ"
      }
    },
    {
      "cell_type": "markdown",
      "source": [
        "#### Пример"
      ],
      "metadata": {
        "id": "a6k-9j1a-8T-"
      }
    },
    {
      "cell_type": "code",
      "source": [
        "import pandas as pd\n",
        "df = pd.read_csv(\"music_genre.csv\")\n",
        "df.head()"
      ],
      "metadata": {
        "colab": {
          "base_uri": "https://localhost:8080/",
          "height": 346
        },
        "id": "pJ4xc_vO8Z0k",
        "outputId": "b5613f69-721a-45b3-ad80-2000fc06d128"
      },
      "execution_count": 3,
      "outputs": [
        {
          "output_type": "error",
          "ename": "FileNotFoundError",
          "evalue": "ignored",
          "traceback": [
            "\u001b[0;31m---------------------------------------------------------------------------\u001b[0m",
            "\u001b[0;31mFileNotFoundError\u001b[0m                         Traceback (most recent call last)",
            "\u001b[0;32m<ipython-input-3-d6dbd875d501>\u001b[0m in \u001b[0;36m<cell line: 2>\u001b[0;34m()\u001b[0m\n\u001b[1;32m      1\u001b[0m \u001b[0;32mimport\u001b[0m \u001b[0mpandas\u001b[0m \u001b[0;32mas\u001b[0m \u001b[0mpd\u001b[0m\u001b[0;34m\u001b[0m\u001b[0;34m\u001b[0m\u001b[0m\n\u001b[0;32m----> 2\u001b[0;31m \u001b[0mdf\u001b[0m \u001b[0;34m=\u001b[0m \u001b[0mpd\u001b[0m\u001b[0;34m.\u001b[0m\u001b[0mread_csv\u001b[0m\u001b[0;34m(\u001b[0m\u001b[0;34m\"music_genre.csv\"\u001b[0m\u001b[0;34m)\u001b[0m\u001b[0;34m\u001b[0m\u001b[0;34m\u001b[0m\u001b[0m\n\u001b[0m\u001b[1;32m      3\u001b[0m \u001b[0mdf\u001b[0m\u001b[0;34m.\u001b[0m\u001b[0mhead\u001b[0m\u001b[0;34m(\u001b[0m\u001b[0;34m)\u001b[0m\u001b[0;34m\u001b[0m\u001b[0;34m\u001b[0m\u001b[0m\n",
            "\u001b[0;32m/usr/local/lib/python3.9/dist-packages/pandas/util/_decorators.py\u001b[0m in \u001b[0;36mwrapper\u001b[0;34m(*args, **kwargs)\u001b[0m\n\u001b[1;32m    209\u001b[0m                 \u001b[0;32melse\u001b[0m\u001b[0;34m:\u001b[0m\u001b[0;34m\u001b[0m\u001b[0;34m\u001b[0m\u001b[0m\n\u001b[1;32m    210\u001b[0m                     \u001b[0mkwargs\u001b[0m\u001b[0;34m[\u001b[0m\u001b[0mnew_arg_name\u001b[0m\u001b[0;34m]\u001b[0m \u001b[0;34m=\u001b[0m \u001b[0mnew_arg_value\u001b[0m\u001b[0;34m\u001b[0m\u001b[0;34m\u001b[0m\u001b[0m\n\u001b[0;32m--> 211\u001b[0;31m             \u001b[0;32mreturn\u001b[0m \u001b[0mfunc\u001b[0m\u001b[0;34m(\u001b[0m\u001b[0;34m*\u001b[0m\u001b[0margs\u001b[0m\u001b[0;34m,\u001b[0m \u001b[0;34m**\u001b[0m\u001b[0mkwargs\u001b[0m\u001b[0;34m)\u001b[0m\u001b[0;34m\u001b[0m\u001b[0;34m\u001b[0m\u001b[0m\n\u001b[0m\u001b[1;32m    212\u001b[0m \u001b[0;34m\u001b[0m\u001b[0m\n\u001b[1;32m    213\u001b[0m         \u001b[0;32mreturn\u001b[0m \u001b[0mcast\u001b[0m\u001b[0;34m(\u001b[0m\u001b[0mF\u001b[0m\u001b[0;34m,\u001b[0m \u001b[0mwrapper\u001b[0m\u001b[0;34m)\u001b[0m\u001b[0;34m\u001b[0m\u001b[0;34m\u001b[0m\u001b[0m\n",
            "\u001b[0;32m/usr/local/lib/python3.9/dist-packages/pandas/util/_decorators.py\u001b[0m in \u001b[0;36mwrapper\u001b[0;34m(*args, **kwargs)\u001b[0m\n\u001b[1;32m    329\u001b[0m                     \u001b[0mstacklevel\u001b[0m\u001b[0;34m=\u001b[0m\u001b[0mfind_stack_level\u001b[0m\u001b[0;34m(\u001b[0m\u001b[0;34m)\u001b[0m\u001b[0;34m,\u001b[0m\u001b[0;34m\u001b[0m\u001b[0;34m\u001b[0m\u001b[0m\n\u001b[1;32m    330\u001b[0m                 )\n\u001b[0;32m--> 331\u001b[0;31m             \u001b[0;32mreturn\u001b[0m \u001b[0mfunc\u001b[0m\u001b[0;34m(\u001b[0m\u001b[0;34m*\u001b[0m\u001b[0margs\u001b[0m\u001b[0;34m,\u001b[0m \u001b[0;34m**\u001b[0m\u001b[0mkwargs\u001b[0m\u001b[0;34m)\u001b[0m\u001b[0;34m\u001b[0m\u001b[0;34m\u001b[0m\u001b[0m\n\u001b[0m\u001b[1;32m    332\u001b[0m \u001b[0;34m\u001b[0m\u001b[0m\n\u001b[1;32m    333\u001b[0m         \u001b[0;31m# error: \"Callable[[VarArg(Any), KwArg(Any)], Any]\" has no\u001b[0m\u001b[0;34m\u001b[0m\u001b[0;34m\u001b[0m\u001b[0m\n",
            "\u001b[0;32m/usr/local/lib/python3.9/dist-packages/pandas/io/parsers/readers.py\u001b[0m in \u001b[0;36mread_csv\u001b[0;34m(filepath_or_buffer, sep, delimiter, header, names, index_col, usecols, squeeze, prefix, mangle_dupe_cols, dtype, engine, converters, true_values, false_values, skipinitialspace, skiprows, skipfooter, nrows, na_values, keep_default_na, na_filter, verbose, skip_blank_lines, parse_dates, infer_datetime_format, keep_date_col, date_parser, dayfirst, cache_dates, iterator, chunksize, compression, thousands, decimal, lineterminator, quotechar, quoting, doublequote, escapechar, comment, encoding, encoding_errors, dialect, error_bad_lines, warn_bad_lines, on_bad_lines, delim_whitespace, low_memory, memory_map, float_precision, storage_options)\u001b[0m\n\u001b[1;32m    948\u001b[0m     \u001b[0mkwds\u001b[0m\u001b[0;34m.\u001b[0m\u001b[0mupdate\u001b[0m\u001b[0;34m(\u001b[0m\u001b[0mkwds_defaults\u001b[0m\u001b[0;34m)\u001b[0m\u001b[0;34m\u001b[0m\u001b[0;34m\u001b[0m\u001b[0m\n\u001b[1;32m    949\u001b[0m \u001b[0;34m\u001b[0m\u001b[0m\n\u001b[0;32m--> 950\u001b[0;31m     \u001b[0;32mreturn\u001b[0m \u001b[0m_read\u001b[0m\u001b[0;34m(\u001b[0m\u001b[0mfilepath_or_buffer\u001b[0m\u001b[0;34m,\u001b[0m \u001b[0mkwds\u001b[0m\u001b[0;34m)\u001b[0m\u001b[0;34m\u001b[0m\u001b[0;34m\u001b[0m\u001b[0m\n\u001b[0m\u001b[1;32m    951\u001b[0m \u001b[0;34m\u001b[0m\u001b[0m\n\u001b[1;32m    952\u001b[0m \u001b[0;34m\u001b[0m\u001b[0m\n",
            "\u001b[0;32m/usr/local/lib/python3.9/dist-packages/pandas/io/parsers/readers.py\u001b[0m in \u001b[0;36m_read\u001b[0;34m(filepath_or_buffer, kwds)\u001b[0m\n\u001b[1;32m    603\u001b[0m \u001b[0;34m\u001b[0m\u001b[0m\n\u001b[1;32m    604\u001b[0m     \u001b[0;31m# Create the parser.\u001b[0m\u001b[0;34m\u001b[0m\u001b[0;34m\u001b[0m\u001b[0m\n\u001b[0;32m--> 605\u001b[0;31m     \u001b[0mparser\u001b[0m \u001b[0;34m=\u001b[0m \u001b[0mTextFileReader\u001b[0m\u001b[0;34m(\u001b[0m\u001b[0mfilepath_or_buffer\u001b[0m\u001b[0;34m,\u001b[0m \u001b[0;34m**\u001b[0m\u001b[0mkwds\u001b[0m\u001b[0;34m)\u001b[0m\u001b[0;34m\u001b[0m\u001b[0;34m\u001b[0m\u001b[0m\n\u001b[0m\u001b[1;32m    606\u001b[0m \u001b[0;34m\u001b[0m\u001b[0m\n\u001b[1;32m    607\u001b[0m     \u001b[0;32mif\u001b[0m \u001b[0mchunksize\u001b[0m \u001b[0;32mor\u001b[0m \u001b[0miterator\u001b[0m\u001b[0;34m:\u001b[0m\u001b[0;34m\u001b[0m\u001b[0;34m\u001b[0m\u001b[0m\n",
            "\u001b[0;32m/usr/local/lib/python3.9/dist-packages/pandas/io/parsers/readers.py\u001b[0m in \u001b[0;36m__init__\u001b[0;34m(self, f, engine, **kwds)\u001b[0m\n\u001b[1;32m   1440\u001b[0m \u001b[0;34m\u001b[0m\u001b[0m\n\u001b[1;32m   1441\u001b[0m         \u001b[0mself\u001b[0m\u001b[0;34m.\u001b[0m\u001b[0mhandles\u001b[0m\u001b[0;34m:\u001b[0m \u001b[0mIOHandles\u001b[0m \u001b[0;34m|\u001b[0m \u001b[0;32mNone\u001b[0m \u001b[0;34m=\u001b[0m \u001b[0;32mNone\u001b[0m\u001b[0;34m\u001b[0m\u001b[0;34m\u001b[0m\u001b[0m\n\u001b[0;32m-> 1442\u001b[0;31m         \u001b[0mself\u001b[0m\u001b[0;34m.\u001b[0m\u001b[0m_engine\u001b[0m \u001b[0;34m=\u001b[0m \u001b[0mself\u001b[0m\u001b[0;34m.\u001b[0m\u001b[0m_make_engine\u001b[0m\u001b[0;34m(\u001b[0m\u001b[0mf\u001b[0m\u001b[0;34m,\u001b[0m \u001b[0mself\u001b[0m\u001b[0;34m.\u001b[0m\u001b[0mengine\u001b[0m\u001b[0;34m)\u001b[0m\u001b[0;34m\u001b[0m\u001b[0;34m\u001b[0m\u001b[0m\n\u001b[0m\u001b[1;32m   1443\u001b[0m \u001b[0;34m\u001b[0m\u001b[0m\n\u001b[1;32m   1444\u001b[0m     \u001b[0;32mdef\u001b[0m \u001b[0mclose\u001b[0m\u001b[0;34m(\u001b[0m\u001b[0mself\u001b[0m\u001b[0;34m)\u001b[0m \u001b[0;34m->\u001b[0m \u001b[0;32mNone\u001b[0m\u001b[0;34m:\u001b[0m\u001b[0;34m\u001b[0m\u001b[0;34m\u001b[0m\u001b[0m\n",
            "\u001b[0;32m/usr/local/lib/python3.9/dist-packages/pandas/io/parsers/readers.py\u001b[0m in \u001b[0;36m_make_engine\u001b[0;34m(self, f, engine)\u001b[0m\n\u001b[1;32m   1733\u001b[0m                 \u001b[0;32mif\u001b[0m \u001b[0;34m\"b\"\u001b[0m \u001b[0;32mnot\u001b[0m \u001b[0;32min\u001b[0m \u001b[0mmode\u001b[0m\u001b[0;34m:\u001b[0m\u001b[0;34m\u001b[0m\u001b[0;34m\u001b[0m\u001b[0m\n\u001b[1;32m   1734\u001b[0m                     \u001b[0mmode\u001b[0m \u001b[0;34m+=\u001b[0m \u001b[0;34m\"b\"\u001b[0m\u001b[0;34m\u001b[0m\u001b[0;34m\u001b[0m\u001b[0m\n\u001b[0;32m-> 1735\u001b[0;31m             self.handles = get_handle(\n\u001b[0m\u001b[1;32m   1736\u001b[0m                 \u001b[0mf\u001b[0m\u001b[0;34m,\u001b[0m\u001b[0;34m\u001b[0m\u001b[0;34m\u001b[0m\u001b[0m\n\u001b[1;32m   1737\u001b[0m                 \u001b[0mmode\u001b[0m\u001b[0;34m,\u001b[0m\u001b[0;34m\u001b[0m\u001b[0;34m\u001b[0m\u001b[0m\n",
            "\u001b[0;32m/usr/local/lib/python3.9/dist-packages/pandas/io/common.py\u001b[0m in \u001b[0;36mget_handle\u001b[0;34m(path_or_buf, mode, encoding, compression, memory_map, is_text, errors, storage_options)\u001b[0m\n\u001b[1;32m    854\u001b[0m         \u001b[0;32mif\u001b[0m \u001b[0mioargs\u001b[0m\u001b[0;34m.\u001b[0m\u001b[0mencoding\u001b[0m \u001b[0;32mand\u001b[0m \u001b[0;34m\"b\"\u001b[0m \u001b[0;32mnot\u001b[0m \u001b[0;32min\u001b[0m \u001b[0mioargs\u001b[0m\u001b[0;34m.\u001b[0m\u001b[0mmode\u001b[0m\u001b[0;34m:\u001b[0m\u001b[0;34m\u001b[0m\u001b[0;34m\u001b[0m\u001b[0m\n\u001b[1;32m    855\u001b[0m             \u001b[0;31m# Encoding\u001b[0m\u001b[0;34m\u001b[0m\u001b[0;34m\u001b[0m\u001b[0m\n\u001b[0;32m--> 856\u001b[0;31m             handle = open(\n\u001b[0m\u001b[1;32m    857\u001b[0m                 \u001b[0mhandle\u001b[0m\u001b[0;34m,\u001b[0m\u001b[0;34m\u001b[0m\u001b[0;34m\u001b[0m\u001b[0m\n\u001b[1;32m    858\u001b[0m                 \u001b[0mioargs\u001b[0m\u001b[0;34m.\u001b[0m\u001b[0mmode\u001b[0m\u001b[0;34m,\u001b[0m\u001b[0;34m\u001b[0m\u001b[0;34m\u001b[0m\u001b[0m\n",
            "\u001b[0;31mFileNotFoundError\u001b[0m: [Errno 2] No such file or directory: 'music_genre.csv'"
          ]
        }
      ]
    },
    {
      "cell_type": "code",
      "source": [
        "df[[\"artist_name\", \"track_name\", \"music_genre\"]].values.tolist()[:10]"
      ],
      "metadata": {
        "colab": {
          "base_uri": "https://localhost:8080/"
        },
        "id": "Q-FOrHTF8m61",
        "outputId": "12375277-3fa1-46e2-8b94-16e4f99b0a60"
      },
      "execution_count": null,
      "outputs": [
        {
          "output_type": "execute_result",
          "data": {
            "text/plain": [
              "[['Röyksopp', \"Röyksopp's Night Out\", 'Electronic'],\n",
              " ['Thievery Corporation', 'The Shining Path', 'Electronic'],\n",
              " ['Dillon Francis', 'Hurricane', 'Electronic'],\n",
              " ['Dubloadz', 'Nitro', 'Electronic'],\n",
              " ['What So Not', 'Divide & Conquer', 'Electronic'],\n",
              " ['Axel Boman', 'Hello', 'Electronic'],\n",
              " ['Jordan Comolli', 'Clash', 'Electronic'],\n",
              " ['Hraach', 'Delirio', 'Electronic'],\n",
              " ['Kayzo', 'NEVER ALONE', 'Electronic'],\n",
              " ['Shlump', 'Lazer Beam', 'Electronic']]"
            ]
          },
          "metadata": {},
          "execution_count": 23
        }
      ]
    },
    {
      "cell_type": "code",
      "source": [
        "import sqlite3\n",
        "\n",
        "# создаем таблицу в БД\n",
        "con = sqlite3.connect(\":memory:\")\n",
        "cur = con.cursor()\n",
        "cur.execute(\"CREATE TABLE music (artist, track, genre);\")\n",
        "\n",
        "# переносим в таблицу данные\n",
        "cur.executemany(\"INSERT INTO music (artist, track, genre) \"\n",
        "                \"VALUES (?, ?, ?);\",\n",
        "                df[[\"artist_name\", \"track_name\", \"music_genre\"]].values.tolist())\n",
        "\n",
        "# сохраняем изменения\n",
        "con.commit()\n",
        "\n",
        "# создаем и выполняем запрос\n",
        "get_songs_per_artist = \"SELECT artist, \" \\\n",
        "       \"COUNT(artist) AS number_of_songs \" \\\n",
        "       \"FROM music \" \\\n",
        "       \"GROUP BY artist \" \\\n",
        "       \"ORDER BY number_of_songs \" \\\n",
        "       \"DESC;\"\n",
        "cur.execute(get_songs_per_artist)\n",
        "\n",
        "result = cur.fetchall()\n",
        "result[:20]"
      ],
      "metadata": {
        "colab": {
          "base_uri": "https://localhost:8080/"
        },
        "id": "Fh_SrFni54U_",
        "outputId": "5bd92ab8-ad25-4bf7-fdf0-600f2287ef0d"
      },
      "execution_count": null,
      "outputs": [
        {
          "output_type": "execute_result",
          "data": {
            "text/plain": [
              "[('empty_field', 2489),\n",
              " ('Nobuo Uematsu', 429),\n",
              " ('Wolfgang Amadeus Mozart', 402),\n",
              " ('Ludwig van Beethoven', 317),\n",
              " ('Johann Sebastian Bach', 314),\n",
              " ('Frédéric Chopin', 241),\n",
              " ('Drake', 172),\n",
              " ('Capcom Sound Team', 169),\n",
              " ('Yuki Hayashi', 167),\n",
              " ('Eminem', 147),\n",
              " ('Future', 124),\n",
              " ('Thievery Corporation', 122),\n",
              " ('The Black Keys', 114),\n",
              " ('Pyotr Ilyich Tchaikovsky', 103),\n",
              " ('Kevin Gates', 102),\n",
              " ('Mac Miller', 97),\n",
              " ('Howard Shore', 93),\n",
              " ('Logic', 92),\n",
              " ('$uicideBoy$', 92),\n",
              " ('Ryuichi Sakamoto', 90)]"
            ]
          },
          "metadata": {},
          "execution_count": 22
        }
      ]
    }
  ]
}