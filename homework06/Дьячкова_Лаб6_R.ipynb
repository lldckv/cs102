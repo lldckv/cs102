{
  "nbformat": 4,
  "nbformat_minor": 0,
  "metadata": {
    "colab": {
      "provenance": [],
      "authorship_tag": "ABX9TyO6Ellwse9AmCG2r0V5s7BE",
      "include_colab_link": true
    },
    "kernelspec": {
      "name": "ir",
      "display_name": "R"
    },
    "language_info": {
      "name": "R"
    }
  },
  "cells": [
    {
      "cell_type": "markdown",
      "metadata": {
        "id": "view-in-github",
        "colab_type": "text"
      },
      "source": [
        "<a href=\"https://colab.research.google.com/github/lldckv/cs102/blob/homework06/homework06/%D0%94%D1%8C%D1%8F%D1%87%D0%BA%D0%BE%D0%B2%D0%B0_%D0%9B%D0%B0%D0%B16_R.ipynb\" target=\"_parent\"><img src=\"https://colab.research.google.com/assets/colab-badge.svg\" alt=\"Open In Colab\"/></a>"
      ]
    },
    {
      "cell_type": "markdown",
      "source": [
        "# Задание 1\n"
      ],
      "metadata": {
        "id": "gRMhUpAxTzch"
      }
    },
    {
      "cell_type": "markdown",
      "source": [
        "1. Загрузите датасет `music_genre.csv`.\n",
        "2. Возьмите 20 тысяч случайных строк из датасета (**все остальные задания выполняйте для этих 20 тысяч строк!!!**)\n",
        "3. Проверьте, есть ли в датасете дублирующиеся строки. Если есть, удалите их.\n",
        "4. Проверьте, есть ли а датасете строки, в которых значение в столбце `artist_name` – `empty_field`. Если есть, выведите эти строки и их количество. А затем удалите из датасета."
      ],
      "metadata": {
        "id": "7Htw7qu6TsB3"
      }
    },
    {
      "cell_type": "code",
      "execution_count": 7,
      "metadata": {
        "colab": {
          "base_uri": "https://localhost:8080/"
        },
        "id": "b0vR-dz3TC0a",
        "outputId": "e40c7d29-4cd3-4851-8354-f103db9e0ba4"
      },
      "outputs": [
        {
          "output_type": "stream",
          "name": "stderr",
          "text": [
            "Installing package into ‘/usr/local/lib/R/site-library’\n",
            "(as ‘lib’ is unspecified)\n",
            "\n",
            "Installing package into ‘/usr/local/lib/R/site-library’\n",
            "(as ‘lib’ is unspecified)\n",
            "\n",
            "also installing the dependencies ‘Rcpp’, ‘promises’, ‘later’\n",
            "\n",
            "\n"
          ]
        }
      ],
      "source": [
        "install.packages(\"googledrive\")\n",
        "install.packages(\"httpuv\")\n",
        "library(\"googledrive\")\n",
        "library(\"httpuv\")"
      ]
    },
    {
      "cell_type": "code",
      "source": [
        "install.packages(\"R.utils\")\n",
        "library(\"R.utils\")\n",
        "library(\"httr\")\n",
        "my_check <- function() {return(TRUE)}\n",
        "reassignInPackage(\"is_interactive\", pkgName = \"httr\", my_check) \n",
        "options(rlang_interactive=TRUE)"
      ],
      "metadata": {
        "colab": {
          "base_uri": "https://localhost:8080/"
        },
        "id": "Ap842NIyZVSx",
        "outputId": "d01d6d82-948f-42be-96ec-86bfbf948d14"
      },
      "execution_count": 8,
      "outputs": [
        {
          "output_type": "stream",
          "name": "stderr",
          "text": [
            "Installing package into ‘/usr/local/lib/R/site-library’\n",
            "(as ‘lib’ is unspecified)\n",
            "\n",
            "also installing the dependencies ‘R.oo’, ‘R.methodsS3’\n",
            "\n",
            "\n",
            "Loading required package: R.oo\n",
            "\n",
            "Loading required package: R.methodsS3\n",
            "\n",
            "R.methodsS3 v1.8.2 (2022-06-13 22:00:14 UTC) successfully loaded. See ?R.methodsS3 for help.\n",
            "\n",
            "R.oo v1.25.0 (2022-06-12 02:20:02 UTC) successfully loaded. See ?R.oo for help.\n",
            "\n",
            "\n",
            "Attaching package: ‘R.oo’\n",
            "\n",
            "\n",
            "The following object is masked from ‘package:R.methodsS3’:\n",
            "\n",
            "    throw\n",
            "\n",
            "\n",
            "The following objects are masked from ‘package:methods’:\n",
            "\n",
            "    getClasses, getMethods\n",
            "\n",
            "\n",
            "The following objects are masked from ‘package:base’:\n",
            "\n",
            "    attach, detach, load, save\n",
            "\n",
            "\n",
            "R.utils v2.12.2 (2022-11-11 22:00:03 UTC) successfully loaded. See ?R.utils for help.\n",
            "\n",
            "\n",
            "Attaching package: ‘R.utils’\n",
            "\n",
            "\n",
            "The following object is masked from ‘package:utils’:\n",
            "\n",
            "    timestamp\n",
            "\n",
            "\n",
            "The following objects are masked from ‘package:base’:\n",
            "\n",
            "    cat, commandArgs, getOption, isOpen, nullfile, parse, warnings\n",
            "\n",
            "\n"
          ]
        }
      ]
    },
    {
      "cell_type": "code",
      "source": [
        "install.packages(\"dplyr\")\n",
        "library(\"dplyr\")"
      ],
      "metadata": {
        "colab": {
          "base_uri": "https://localhost:8080/"
        },
        "id": "VKVwHeMYhGw9",
        "outputId": "7f050a27-69e2-488a-affd-6bab430af1e5"
      },
      "execution_count": 23,
      "outputs": [
        {
          "output_type": "stream",
          "name": "stderr",
          "text": [
            "Installing package into ‘/usr/local/lib/R/site-library’\n",
            "(as ‘lib’ is unspecified)\n",
            "\n",
            "\n",
            "Attaching package: ‘dplyr’\n",
            "\n",
            "\n",
            "The following objects are masked from ‘package:stats’:\n",
            "\n",
            "    filter, lag\n",
            "\n",
            "\n",
            "The following objects are masked from ‘package:base’:\n",
            "\n",
            "    intersect, setdiff, setequal, union\n",
            "\n",
            "\n"
          ]
        }
      ]
    },
    {
      "cell_type": "code",
      "source": [
        "#1\n",
        "music <- data.frame(read.csv('/music_genre.csv'))\n",
        "#2\n",
        "music_sample_full <- sample_n(music, 20000, replace = FALSE)\n",
        "#3\n",
        "if (any(duplicated(music_sample_full))) {\n",
        "  music_sample_full <- music_sample_full[!duplicated(music_sample_full), ]\n",
        "}\n",
        "#4\n",
        "cat(paste(\"Строк без артистов: \", nrow(music_sample_full[music_sample_full$artist_name == \"empty_field\", ])), \"\\n\")\n",
        "music_sample <- music_sample_full[!(music_sample_full$artist_name == \"empty_field\"), ]\n",
        "head(music_sample)"
      ],
      "metadata": {
        "colab": {
          "base_uri": "https://localhost:8080/",
          "height": 393
        },
        "id": "QzNDt-b4f1cY",
        "outputId": "9ed898ce-08df-4051-bcb7-2f22418851e1"
      },
      "execution_count": 42,
      "outputs": [
        {
          "output_type": "stream",
          "name": "stdout",
          "text": [
            "Строк без артистов:  1033 \n"
          ]
        },
        {
          "output_type": "display_data",
          "data": {
            "text/html": [
              "<table class=\"dataframe\">\n",
              "<caption>A data.frame: 6 × 18</caption>\n",
              "<thead>\n",
              "\t<tr><th></th><th scope=col>instance_id</th><th scope=col>artist_name</th><th scope=col>track_name</th><th scope=col>popularity</th><th scope=col>acousticness</th><th scope=col>danceability</th><th scope=col>duration_ms</th><th scope=col>energy</th><th scope=col>instrumentalness</th><th scope=col>key</th><th scope=col>liveness</th><th scope=col>loudness</th><th scope=col>mode</th><th scope=col>speechiness</th><th scope=col>tempo</th><th scope=col>obtained_date</th><th scope=col>valence</th><th scope=col>music_genre</th></tr>\n",
              "\t<tr><th></th><th scope=col>&lt;dbl&gt;</th><th scope=col>&lt;chr&gt;</th><th scope=col>&lt;chr&gt;</th><th scope=col>&lt;dbl&gt;</th><th scope=col>&lt;dbl&gt;</th><th scope=col>&lt;dbl&gt;</th><th scope=col>&lt;dbl&gt;</th><th scope=col>&lt;dbl&gt;</th><th scope=col>&lt;dbl&gt;</th><th scope=col>&lt;chr&gt;</th><th scope=col>&lt;dbl&gt;</th><th scope=col>&lt;dbl&gt;</th><th scope=col>&lt;chr&gt;</th><th scope=col>&lt;dbl&gt;</th><th scope=col>&lt;chr&gt;</th><th scope=col>&lt;chr&gt;</th><th scope=col>&lt;dbl&gt;</th><th scope=col>&lt;chr&gt;</th></tr>\n",
              "</thead>\n",
              "<tbody>\n",
              "\t<tr><th scope=row>1</th><td>90400</td><td>Cody Jinks   </td><td>Cast No Stones          </td><td>56</td><td>0.00775</td><td>0.498</td><td>316020</td><td>0.537</td><td>3.24e-03</td><td>G#</td><td>0.1050</td><td> -6.602</td><td>Major</td><td>0.0292</td><td>122.965           </td><td>3-Apr</td><td>0.298</td><td>Rock       </td></tr>\n",
              "\t<tr><th scope=row>2</th><td>65623</td><td>Comethazine  </td><td>My Way                  </td><td>54</td><td>0.01510</td><td>0.885</td><td>    -1</td><td>0.466</td><td>0.00e+00</td><td>C#</td><td>0.1490</td><td> -9.369</td><td>Major</td><td>0.4600</td><td>139.966           </td><td>4-Apr</td><td>0.360</td><td>Hip-Hop    </td></tr>\n",
              "\t<tr><th scope=row>4</th><td>78939</td><td>Ajmw         </td><td>OldTricks               </td><td>44</td><td>0.27800</td><td>0.765</td><td>176551</td><td>0.427</td><td>5.94e-01</td><td>B </td><td>0.1410</td><td> -9.824</td><td>Minor</td><td>0.0498</td><td>87.001            </td><td>4-Apr</td><td>0.630</td><td>Jazz       </td></tr>\n",
              "\t<tr><th scope=row>5</th><td>66403</td><td>Kenny Chesney</td><td>Boston                  </td><td>46</td><td>0.72200</td><td>0.671</td><td>256360</td><td>0.545</td><td>9.72e-06</td><td>G </td><td>0.0959</td><td>-10.976</td><td>Major</td><td>0.0448</td><td>165.908           </td><td>4-Apr</td><td>0.587</td><td>Country    </td></tr>\n",
              "\t<tr><th scope=row>6</th><td>38192</td><td>Leikeli47    </td><td>Mulita                  </td><td>43</td><td>0.03060</td><td>0.873</td><td>    -1</td><td>0.562</td><td>6.76e-04</td><td>B </td><td>0.1270</td><td> -6.252</td><td>Minor</td><td>0.2670</td><td>108.65299999999999</td><td>4-Apr</td><td>0.681</td><td>Alternative</td></tr>\n",
              "\t<tr><th scope=row>7</th><td>22598</td><td>Luke Bryan   </td><td>Sunrise, Sunburn, Sunset</td><td>69</td><td>0.18500</td><td>0.472</td><td>216093</td><td>0.884</td><td>0.00e+00</td><td>A </td><td>0.1780</td><td> -2.306</td><td>Major</td><td>0.0584</td><td>159.96            </td><td>4-Apr</td><td>0.718</td><td>Country    </td></tr>\n",
              "</tbody>\n",
              "</table>\n"
            ],
            "text/markdown": "\nA data.frame: 6 × 18\n\n| <!--/--> | instance_id &lt;dbl&gt; | artist_name &lt;chr&gt; | track_name &lt;chr&gt; | popularity &lt;dbl&gt; | acousticness &lt;dbl&gt; | danceability &lt;dbl&gt; | duration_ms &lt;dbl&gt; | energy &lt;dbl&gt; | instrumentalness &lt;dbl&gt; | key &lt;chr&gt; | liveness &lt;dbl&gt; | loudness &lt;dbl&gt; | mode &lt;chr&gt; | speechiness &lt;dbl&gt; | tempo &lt;chr&gt; | obtained_date &lt;chr&gt; | valence &lt;dbl&gt; | music_genre &lt;chr&gt; |\n|---|---|---|---|---|---|---|---|---|---|---|---|---|---|---|---|---|---|---|\n| 1 | 90400 | Cody Jinks    | Cast No Stones           | 56 | 0.00775 | 0.498 | 316020 | 0.537 | 3.24e-03 | G# | 0.1050 |  -6.602 | Major | 0.0292 | 122.965            | 3-Apr | 0.298 | Rock        |\n| 2 | 65623 | Comethazine   | My Way                   | 54 | 0.01510 | 0.885 |     -1 | 0.466 | 0.00e+00 | C# | 0.1490 |  -9.369 | Major | 0.4600 | 139.966            | 4-Apr | 0.360 | Hip-Hop     |\n| 4 | 78939 | Ajmw          | OldTricks                | 44 | 0.27800 | 0.765 | 176551 | 0.427 | 5.94e-01 | B  | 0.1410 |  -9.824 | Minor | 0.0498 | 87.001             | 4-Apr | 0.630 | Jazz        |\n| 5 | 66403 | Kenny Chesney | Boston                   | 46 | 0.72200 | 0.671 | 256360 | 0.545 | 9.72e-06 | G  | 0.0959 | -10.976 | Major | 0.0448 | 165.908            | 4-Apr | 0.587 | Country     |\n| 6 | 38192 | Leikeli47     | Mulita                   | 43 | 0.03060 | 0.873 |     -1 | 0.562 | 6.76e-04 | B  | 0.1270 |  -6.252 | Minor | 0.2670 | 108.65299999999999 | 4-Apr | 0.681 | Alternative |\n| 7 | 22598 | Luke Bryan    | Sunrise, Sunburn, Sunset | 69 | 0.18500 | 0.472 | 216093 | 0.884 | 0.00e+00 | A  | 0.1780 |  -2.306 | Major | 0.0584 | 159.96             | 4-Apr | 0.718 | Country     |\n\n",
            "text/latex": "A data.frame: 6 × 18\n\\begin{tabular}{r|llllllllllllllllll}\n  & instance\\_id & artist\\_name & track\\_name & popularity & acousticness & danceability & duration\\_ms & energy & instrumentalness & key & liveness & loudness & mode & speechiness & tempo & obtained\\_date & valence & music\\_genre\\\\\n  & <dbl> & <chr> & <chr> & <dbl> & <dbl> & <dbl> & <dbl> & <dbl> & <dbl> & <chr> & <dbl> & <dbl> & <chr> & <dbl> & <chr> & <chr> & <dbl> & <chr>\\\\\n\\hline\n\t1 & 90400 & Cody Jinks    & Cast No Stones           & 56 & 0.00775 & 0.498 & 316020 & 0.537 & 3.24e-03 & G\\# & 0.1050 &  -6.602 & Major & 0.0292 & 122.965            & 3-Apr & 0.298 & Rock       \\\\\n\t2 & 65623 & Comethazine   & My Way                   & 54 & 0.01510 & 0.885 &     -1 & 0.466 & 0.00e+00 & C\\# & 0.1490 &  -9.369 & Major & 0.4600 & 139.966            & 4-Apr & 0.360 & Hip-Hop    \\\\\n\t4 & 78939 & Ajmw          & OldTricks                & 44 & 0.27800 & 0.765 & 176551 & 0.427 & 5.94e-01 & B  & 0.1410 &  -9.824 & Minor & 0.0498 & 87.001             & 4-Apr & 0.630 & Jazz       \\\\\n\t5 & 66403 & Kenny Chesney & Boston                   & 46 & 0.72200 & 0.671 & 256360 & 0.545 & 9.72e-06 & G  & 0.0959 & -10.976 & Major & 0.0448 & 165.908            & 4-Apr & 0.587 & Country    \\\\\n\t6 & 38192 & Leikeli47     & Mulita                   & 43 & 0.03060 & 0.873 &     -1 & 0.562 & 6.76e-04 & B  & 0.1270 &  -6.252 & Minor & 0.2670 & 108.65299999999999 & 4-Apr & 0.681 & Alternative\\\\\n\t7 & 22598 & Luke Bryan    & Sunrise, Sunburn, Sunset & 69 & 0.18500 & 0.472 & 216093 & 0.884 & 0.00e+00 & A  & 0.1780 &  -2.306 & Major & 0.0584 & 159.96             & 4-Apr & 0.718 & Country    \\\\\n\\end{tabular}\n",
            "text/plain": [
              "  instance_id artist_name   track_name               popularity acousticness\n",
              "1 90400       Cody Jinks    Cast No Stones           56         0.00775     \n",
              "2 65623       Comethazine   My Way                   54         0.01510     \n",
              "4 78939       Ajmw          OldTricks                44         0.27800     \n",
              "5 66403       Kenny Chesney Boston                   46         0.72200     \n",
              "6 38192       Leikeli47     Mulita                   43         0.03060     \n",
              "7 22598       Luke Bryan    Sunrise, Sunburn, Sunset 69         0.18500     \n",
              "  danceability duration_ms energy instrumentalness key liveness loudness mode \n",
              "1 0.498        316020      0.537  3.24e-03         G#  0.1050    -6.602  Major\n",
              "2 0.885            -1      0.466  0.00e+00         C#  0.1490    -9.369  Major\n",
              "4 0.765        176551      0.427  5.94e-01         B   0.1410    -9.824  Minor\n",
              "5 0.671        256360      0.545  9.72e-06         G   0.0959   -10.976  Major\n",
              "6 0.873            -1      0.562  6.76e-04         B   0.1270    -6.252  Minor\n",
              "7 0.472        216093      0.884  0.00e+00         A   0.1780    -2.306  Major\n",
              "  speechiness tempo              obtained_date valence music_genre\n",
              "1 0.0292      122.965            3-Apr         0.298   Rock       \n",
              "2 0.4600      139.966            4-Apr         0.360   Hip-Hop    \n",
              "4 0.0498      87.001             4-Apr         0.630   Jazz       \n",
              "5 0.0448      165.908            4-Apr         0.587   Country    \n",
              "6 0.2670      108.65299999999999 4-Apr         0.681   Alternative\n",
              "7 0.0584      159.96             4-Apr         0.718   Country    "
            ]
          },
          "metadata": {}
        }
      ]
    },
    {
      "cell_type": "markdown",
      "source": [
        "# Задание 2\n"
      ],
      "metadata": {
        "id": "vBjXyyJBh_SW"
      }
    },
    {
      "cell_type": "markdown",
      "source": [
        "1. Выведите долю каждого жанра в датасете.\n",
        "2. Покажите на горизонтальной столбиковой диаграмме распределение количества треков по жанрам. Выделите контрастным цветом жанр, в котором больше всего песен.\n",
        "3. Найдите самый танцевальный жанр. У самого танцевального жанра среднее значение показателя danceability должно быть наивысшим.\n",
        "4. Для каждого жанра определите, какая тональность в нем преобладает – количество треков какой тональность больше (минор или мажор)."
      ],
      "metadata": {
        "id": "CfhXJ6IHiFeR"
      }
    },
    {
      "cell_type": "code",
      "source": [
        "install.packages(\"ggplot2\")\n",
        "library(\"ggplot2\")"
      ],
      "metadata": {
        "colab": {
          "base_uri": "https://localhost:8080/"
        },
        "id": "CnchErxdirlh",
        "outputId": "68e3ac95-c60c-470f-bd9d-b991b791ed0e"
      },
      "execution_count": 30,
      "outputs": [
        {
          "output_type": "stream",
          "name": "stderr",
          "text": [
            "Installing package into ‘/usr/local/lib/R/site-library’\n",
            "(as ‘lib’ is unspecified)\n",
            "\n"
          ]
        }
      ]
    },
    {
      "cell_type": "code",
      "source": [
        "#1\n",
        "genres_amount <- table(music_sample$music_genre)\n",
        "genre_fraction <- 100 * genres_amount / nrow(music_sample)\n",
        "genre_fraction_df <- data.frame(genre = names(genre_fraction), frequency = as.vector(genre_fraction))\n",
        "print(genre_fraction_df)\n",
        "#2\n",
        "p1 <- ggplot(data = genre_fraction_df, aes(x = frequency, y = genre)) +\n",
        "  geom_bar(stat = \"identity\", fill = \"#bfbfbf\") +\n",
        "  labs(title = \"Songs per genre\", x = \"Genre frequency (%)\", y = \"Genre\") +\n",
        "  theme_minimal()\n",
        "\n",
        "tallest_freq <- max(genre_fraction_df$frequency)\n",
        "tallest_genre <- genre_fraction_df[genre_fraction_df$frequency == tallest_freq, 1]\n",
        "\n",
        "ggplot(data = genre_fraction_df, aes(x = frequency, y = genre)) +\n",
        "  geom_bar(stat = \"identity\", fill = ifelse(genre_fraction_df$genre == tallest_genre, \"red\", \"#bfbfbf\")) +\n",
        "  labs(title = \"Songs per genre\", x = \"Genre frequency (%)\", y = \"Genre\") +\n",
        "  theme_minimal()"
      ],
      "metadata": {
        "colab": {
          "base_uri": "https://localhost:8080/",
          "height": 836
        },
        "id": "rX6ucNNWiKC4",
        "outputId": "3b4784b2-e191-43f0-810e-9f87d3cc0176"
      },
      "execution_count": 55,
      "outputs": [
        {
          "output_type": "stream",
          "name": "stdout",
          "text": [
            "         genre    frequency\n",
            "1               0.005272871\n",
            "2  Alternative  9.580806749\n",
            "3        Anime 10.071183760\n",
            "4        Blues  9.881360401\n",
            "5    Classical 10.139731084\n",
            "6      Country 10.044819404\n",
            "7   Electronic 10.271552861\n",
            "8      Hip-Hop 10.176641181\n",
            "9         Jazz 10.118639599\n",
            "10         Rap  9.912997627\n",
            "11        Rock  9.796994463\n",
            "[1] \"Rock , Major преобладает:  472 < 1386\"\n",
            "[1] \"Hip-Hop , Major преобладает:  873 < 1057\"\n",
            "[1] \"Jazz , Major преобладает:  907 < 1012\"\n",
            "[1] \"Country , Major преобладает:  231 < 1674\"\n",
            "[1] \"Alternative , Major преобладает:  672 < 1145\"\n",
            "[1] \"Rap , Major преобладает:  833 < 1047\"\n",
            "[1] \"Electronic , Major преобладает:  880 < 1068\"\n",
            "[1] \"Blues , Major преобладает:  536 < 1338\"\n",
            "[1] \"Classical , Major преобладает:  621 < 1302\"\n",
            "[1] \"Anime , Major преобладает:  757 < 1153\"\n",
            "[1] \" , Major преобладает:  0 < 0\"\n"
          ]
        },
        {
          "output_type": "display_data",
          "data": {
            "text/plain": [
              "plot without title"
            ],
            "image/png": "[encoded data removed]"
          },
          "metadata": {
            "image/png": {
              "width": 420,
              "height": 420
            }
          }
        }
      ]
    },
    {
      "cell_type": "code",
      "source": [
        "#3\n",
        "genres <- music_sample$music_genre[!is.na(df$music_genre)]\n",
        "genre_means <- tapply(music_sample$danceability, music_sample$music_genre, mean)\n",
        "max_genre <- names(which.max(genre_means))\n",
        "cat(paste(\"Название жанра с самым высоким показателем танцевальности:\", max_genre))\n"
      ],
      "metadata": {
        "colab": {
          "base_uri": "https://localhost:8080/"
        },
        "id": "zrOGTPtbnmiL",
        "outputId": "91b54b06-d8fb-46ee-8976-a5e47c507612"
      },
      "execution_count": 60,
      "outputs": [
        {
          "output_type": "stream",
          "name": "stdout",
          "text": [
            "Название жанра с самым высоким показателем танцевальности: Hip-Hop"
          ]
        }
      ]
    },
    {
      "cell_type": "code",
      "source": [
        "#4\n",
        "genres <- unique(music_sample$music_genre)\n",
        "md <- c()\n",
        "music_sample_r <- music_sample[music_sample$mode != \"empty_field\",]\n",
        "for (genre in genres) {\n",
        "  md <- c(md, list(mean(music_sample[music_sample$music_genre == genre, ]$danceability), genre))\n",
        "  r <- music_sample_r[music_sample_r$music_genre == genre & music_sample_r$mode == \"Minor\", ]\n",
        "  if (nrow(r) > nrow(music_sample_r[music_sample_r$music_genre == genre & music_sample_r$mode == \"Major\", ])) {\n",
        "    print(paste(genre, \", Minor преобладает: \", nrow(r), \">\", nrow(music_sample_r[music_sample_r$music_genre == genre & music_sample_r$mode == \"Major\", ])))\n",
        "  } else {\n",
        "    print(paste(genre, \", Major преобладает: \", nrow(r), \"<\", nrow(music_sample_r[music_sample_r$music_genre == genre & music_sample_r$mode == \"Major\", ])))\n",
        "  }\n",
        "}"
      ],
      "metadata": {
        "colab": {
          "base_uri": "https://localhost:8080/"
        },
        "id": "8Rg51GQVneb0",
        "outputId": "c9a6ba31-19d8-4024-e0e2-783380e7cd60"
      },
      "execution_count": 61,
      "outputs": [
        {
          "output_type": "stream",
          "name": "stdout",
          "text": [
            "[1] \"Rock , Major преобладает:  472 < 1386\"\n",
            "[1] \"Hip-Hop , Major преобладает:  873 < 1057\"\n",
            "[1] \"Jazz , Major преобладает:  907 < 1012\"\n",
            "[1] \"Country , Major преобладает:  231 < 1674\"\n",
            "[1] \"Alternative , Major преобладает:  672 < 1145\"\n",
            "[1] \"Rap , Major преобладает:  833 < 1047\"\n",
            "[1] \"Electronic , Major преобладает:  880 < 1068\"\n",
            "[1] \"Blues , Major преобладает:  536 < 1338\"\n",
            "[1] \"Classical , Major преобладает:  621 < 1302\"\n",
            "[1] \"Anime , Major преобладает:  757 < 1153\"\n",
            "[1] \" , Major преобладает:  0 < 0\"\n"
          ]
        }
      ]
    },
    {
      "cell_type": "markdown",
      "source": [
        "# Задание 3\n"
      ],
      "metadata": {
        "id": "fZg0dPyjqWqB"
      }
    },
    {
      "cell_type": "markdown",
      "source": [
        "1. Выведите исполнителя, у которого больше всего треков в датасете. И того, у которого их меньше всех.\n",
        "2. Покажите на горизонтральной столбиковой диаграмме топ-20 исполнителей. Изучите результат и сделайте выводы.\n"
      ],
      "metadata": {
        "id": "-CPo3Fr2qanh"
      }
    },
    {
      "cell_type": "code",
      "source": [],
      "metadata": {
        "id": "JWsASSMDqg81"
      },
      "execution_count": null,
      "outputs": []
    }
  ]
}